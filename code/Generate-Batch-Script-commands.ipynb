{
 "cells": [
  {
   "cell_type": "code",
   "execution_count": 5,
   "id": "4a031362-d6c5-464f-8eba-821708935d20",
   "metadata": {},
   "outputs": [
    {
     "name": "stdout",
     "output_type": "stream",
     "text": [
      "/scratch/ajallawa/MemStream/code\n"
     ]
    }
   ],
   "source": [
    "!pwd\n",
    "import os\n",
    "\n",
    "# navigate to the directory where the .sh file is located\n",
    "os.chdir('/scratch/ajallawa/MemStream/code')"
   ]
  },
  {
   "cell_type": "code",
   "execution_count": 16,
   "id": "07d9a4b4-7e41-47e8-83bc-3d1d24c4e4be",
   "metadata": {},
   "outputs": [
    {
     "name": "stdout",
     "output_type": "stream",
     "text": [
      "python3 memstream-ml3-v2.py --dataset KDD --beta 1 --memlen 256 --fs mi > /scratch/ajallawa/MemStream/code/outputs/mi-kdd.txt \n",
      "python3 memstream-ml3-v2.py --dataset KDD --beta 1 --memlen 256 --fs pca_sd > /scratch/ajallawa/MemStream/code/outputs/pca_sd-kdd.txt\n",
      "python3 memstream-ml3-v2.py --dataset KDD --beta 1 --memlen 256 --fs pca > /scratch/ajallawa/MemStream/code/outputs/pca-kdd.txt\n",
      "python3 memstream-ml3-v2.py --dataset KDD --beta 1 --memlen 256 --fs ica_sd > /scratch/ajallawa/MemStream/code/outputs/ica_sd-kdd.txt\n",
      "python3 memstream-ml3-v2.py --dataset KDD --beta 1 --memlen 256 --fs ica > /scratch/ajallawa/MemStream/code/outputs/ica-kdd.txt\n",
      "python3 memstream-ml3-v2.py --dataset KDD --beta 1 --memlen 256 --fs lca_sd > /scratch/ajallawa/MemStream/code/outputs/lca_sd-kdd.txt\n",
      "python3 memstream-ml3-v2.py --dataset KDD --beta 1 --memlen 256 --fs lca > /scratch/ajallawa/MemStream/code/outputs/lca-kdd.txt\n",
      "python3 memstream-ml3-v2.py --dataset KDD --beta 1 --memlen 256 --fs chi > /scratch/ajallawa/MemStream/code/outputs/chi-kdd.txt\n",
      "python3 memstream-ml3-v2.py --dataset KDD --beta 1 --memlen 256 --fs mi > /scratch/ajallawa/MemStream/code/outputs/mi-kdd.txt\n",
      "python3 memstream-ml3-v2.py --dataset KDD --beta 1 --memlen 256 --fs rfe > /scratch/ajallawa/MemStream/code/outputs/rfe-kdd.txt\n",
      "\n",
      "python3 memstream-ml3-v2.py --dataset KDD --beta 1 --memlen 256 --fs mi --sp str > /scratch/ajallawa/MemStream/code/outputs/mi-kdd-str.txt\n",
      "python3 memstream-ml3-v2.py --dataset KDD --beta 1 --memlen 256 --fs pca_sd --sp str > /scratch/ajallawa/MemStream/code/outputs/pca_sd-kdd-str.txt\n",
      "python3 memstream-ml3-v2.py --dataset KDD --beta 1 --memlen 256 --fs pca --sp str > /scratch/ajallawa/MemStream/code/outputs/pca-kdd-str.txt\n",
      "python3 memstream-ml3-v2.py --dataset KDD --beta 1 --memlen 256 --fs ica_sd --sp str > /scratch/ajallawa/MemStream/code/outputs/ica_sd-kdd-str.txt\n",
      "python3 memstream-ml3-v2.py --dataset KDD --beta 1 --memlen 256 --fs ica --sp str > /scratch/ajallawa/MemStream/code/outputs/ica-kdd-str.txt\n",
      "python3 memstream-ml3-v2.py --dataset KDD --beta 1 --memlen 256 --fs lca_sd --sp str > /scratch/ajallawa/MemStream/code/outputs/lca_sd-kdd-str.txt\n",
      "python3 memstream-ml3-v2.py --dataset KDD --beta 1 --memlen 256 --fs lca --sp str > /scratch/ajallawa/MemStream/code/outputs/lca-kdd-str.txt\n",
      "python3 memstream-ml3-v2.py --dataset KDD --beta 1 --memlen 256 --fs chi --sp str > /scratch/ajallawa/MemStream/code/outputs/chi-kdd-str.txt\n",
      "python3 memstream-ml3-v2.py --dataset KDD --beta 1 --memlen 256 --fs mi --sp str > /scratch/ajallawa/MemStream/code/outputs/mi-kdd-str.txt\n",
      "python3 memstream-ml3-v2.py --dataset KDD --beta 1 --memlen 256 --fs rfe --sp str > /scratch/ajallawa/MemStream/code/outputs/rfe-kdd-str.txt\n",
      "\n",
      "python3 memstream-ml3-v2.py --dataset KDD --beta 1 --memlen 256 --fs mi --sp ovr > /scratch/ajallawa/MemStream/code/outputs/mi-kdd-ovr.txt\n",
      "python3 memstream-ml3-v2.py --dataset KDD --beta 1 --memlen 256 --fs pca_sd --sp ovr > /scratch/ajallawa/MemStream/code/outputs/pca_sd-kdd-ovr.txt\n",
      "python3 memstream-ml3-v2.py --dataset KDD --beta 1 --memlen 256 --fs pca --sp ovr > /scratch/ajallawa/MemStream/code/outputs/pca-kdd-ovr.txt\n",
      "python3 memstream-ml3-v2.py --dataset KDD --beta 1 --memlen 256 --fs ica_sd --sp ovr > /scratch/ajallawa/MemStream/code/outputs/ica_sd-kdd-ovr.txt\n",
      "python3 memstream-ml3-v2.py --dataset KDD --beta 1 --memlen 256 --fs ica --sp ovr > /scratch/ajallawa/MemStream/code/outputs/ica-kdd-ovr.txt\n",
      "python3 memstream-ml3-v2.py --dataset KDD --beta 1 --memlen 256 --fs lca_sd --sp ovr > /scratch/ajallawa/MemStream/code/outputs/lca_sd-kdd-ovr.txt\n",
      "python3 memstream-ml3-v2.py --dataset KDD --beta 1 --memlen 256 --fs lca --sp ovr > /scratch/ajallawa/MemStream/code/outputs/lca-kdd-ovr.txt\n",
      "python3 memstream-ml3-v2.py --dataset KDD --beta 1 --memlen 256 --fs chi --sp ovr > /scratch/ajallawa/MemStream/code/outputs/chi-kdd-ovr.txt\n",
      "python3 memstream-ml3-v2.py --dataset KDD --beta 1 --memlen 256 --fs mi --sp ovr > /scratch/ajallawa/MemStream/code/outputs/mi-kdd-ovr.txt\n",
      "python3 memstream-ml3-v2.py --dataset KDD --beta 1 --memlen 256 --fs rfe --sp ovr > /scratch/ajallawa/MemStream/code/outputs/rfe-kdd-ovr.txt\n",
      "\n",
      "python3 memstream-ml3-v2.py --dataset KDD --beta 1 --memlen 256 --fs mi --sp sm > /scratch/ajallawa/MemStream/code/outputs/mi-kdd-sm.txt\n",
      "python3 memstream-ml3-v2.py --dataset KDD --beta 1 --memlen 256 --fs pca_sd --sp sm > /scratch/ajallawa/MemStream/code/outputs/pca_sd-kdd-sm.txt\n",
      "python3 memstream-ml3-v2.py --dataset KDD --beta 1 --memlen 256 --fs pca --sp sm > /scratch/ajallawa/MemStream/code/outputs/pca-kdd-sm.txt\n",
      "python3 memstream-ml3-v2.py --dataset KDD --beta 1 --memlen 256 --fs ica_sd --sp sm > /scratch/ajallawa/MemStream/code/outputs/ica_sd-kdd-sm.txt\n",
      "python3 memstream-ml3-v2.py --dataset KDD --beta 1 --memlen 256 --fs ica --sp sm > /scratch/ajallawa/MemStream/code/outputs/ica-kdd-sm.txt\n",
      "python3 memstream-ml3-v2.py --dataset KDD --beta 1 --memlen 256 --fs lca_sd --sp sm > /scratch/ajallawa/MemStream/code/outputs/lca_sd-kdd-sm.txt\n",
      "python3 memstream-ml3-v2.py --dataset KDD --beta 1 --memlen 256 --fs lca --sp sm > /scratch/ajallawa/MemStream/code/outputs/lca-kdd-sm.txt\n",
      "python3 memstream-ml3-v2.py --dataset KDD --beta 1 --memlen 256 --fs chi --sp sm > /scratch/ajallawa/MemStream/code/outputs/chi-kdd-sm.txt\n",
      "python3 memstream-ml3-v2.py --dataset KDD --beta 1 --memlen 256 --fs mi --sp sm > /scratch/ajallawa/MemStream/code/outputs/mi-kdd-sm.txt\n",
      "python3 memstream-ml3-v2.py --dataset KDD --beta 1 --memlen 256 --fs rfe --sp sm > /scratch/ajallawa/MemStream/code/outputs/rfe-kdd-sm.txt\n"
     ]
    }
   ],
   "source": [
    "with open('batch-ml3-pre.sh', 'r') as f:\n",
    "    shell_script = f.read()\n",
    "    print(shell_script)"
   ]
  },
  {
   "cell_type": "code",
   "execution_count": 64,
   "id": "291387a0-4ec1-4ae6-8c04-fd9dd42ca78b",
   "metadata": {},
   "outputs": [],
   "source": [
    "modified_shell_script = shell_script.replace('KDD', 'cover')\n",
    "modified_shell_script = modified_shell_script.replace('1', '0.0001')\n",
    "modified_shell_script = modified_shell_script.replace('256', '2048')\n",
    "modified_shell_script = modified_shell_script.replace('kdd', 'cover')"
   ]
  },
  {
   "cell_type": "code",
   "execution_count": 65,
   "id": "9d6b93c6-3ae8-44bb-b692-df2976aa1077",
   "metadata": {},
   "outputs": [
    {
     "name": "stdout",
     "output_type": "stream",
     "text": [
      "python3 memstream-ml3-v2.py --dataset cover --beta 0.0001 --memlen 2048 --fs mi > /scratch/ajallawa/MemStream/code/outputs/mi-cover.txt \n",
      "python3 memstream-ml3-v2.py --dataset cover --beta 0.0001 --memlen 2048 --fs pca_sd > /scratch/ajallawa/MemStream/code/outputs/pca_sd-cover.txt\n",
      "python3 memstream-ml3-v2.py --dataset cover --beta 0.0001 --memlen 2048 --fs pca > /scratch/ajallawa/MemStream/code/outputs/pca-cover.txt\n",
      "python3 memstream-ml3-v2.py --dataset cover --beta 0.0001 --memlen 2048 --fs ica_sd > /scratch/ajallawa/MemStream/code/outputs/ica_sd-cover.txt\n",
      "python3 memstream-ml3-v2.py --dataset cover --beta 0.0001 --memlen 2048 --fs ica > /scratch/ajallawa/MemStream/code/outputs/ica-cover.txt\n",
      "python3 memstream-ml3-v2.py --dataset cover --beta 0.0001 --memlen 2048 --fs lca_sd > /scratch/ajallawa/MemStream/code/outputs/lca_sd-cover.txt\n",
      "python3 memstream-ml3-v2.py --dataset cover --beta 0.0001 --memlen 2048 --fs lca > /scratch/ajallawa/MemStream/code/outputs/lca-cover.txt\n",
      "python3 memstream-ml3-v2.py --dataset cover --beta 0.0001 --memlen 2048 --fs chi > /scratch/ajallawa/MemStream/code/outputs/chi-cover.txt\n",
      "python3 memstream-ml3-v2.py --dataset cover --beta 0.0001 --memlen 2048 --fs mi > /scratch/ajallawa/MemStream/code/outputs/mi-cover.txt\n",
      "python3 memstream-ml3-v2.py --dataset cover --beta 0.0001 --memlen 2048 --fs rfe > /scratch/ajallawa/MemStream/code/outputs/rfe-cover.txt\n",
      "\n",
      "python3 memstream-ml3-v2.py --dataset cover --beta 0.0001 --memlen 2048 --fs mi --sp str > /scratch/ajallawa/MemStream/code/outputs/mi-cover-str.txt\n",
      "python3 memstream-ml3-v2.py --dataset cover --beta 0.0001 --memlen 2048 --fs pca_sd --sp str > /scratch/ajallawa/MemStream/code/outputs/pca_sd-cover-str.txt\n",
      "python3 memstream-ml3-v2.py --dataset cover --beta 0.0001 --memlen 2048 --fs pca --sp str > /scratch/ajallawa/MemStream/code/outputs/pca-cover-str.txt\n",
      "python3 memstream-ml3-v2.py --dataset cover --beta 0.0001 --memlen 2048 --fs ica_sd --sp str > /scratch/ajallawa/MemStream/code/outputs/ica_sd-cover-str.txt\n",
      "python3 memstream-ml3-v2.py --dataset cover --beta 0.0001 --memlen 2048 --fs ica --sp str > /scratch/ajallawa/MemStream/code/outputs/ica-cover-str.txt\n",
      "python3 memstream-ml3-v2.py --dataset cover --beta 0.0001 --memlen 2048 --fs lca_sd --sp str > /scratch/ajallawa/MemStream/code/outputs/lca_sd-cover-str.txt\n",
      "python3 memstream-ml3-v2.py --dataset cover --beta 0.0001 --memlen 2048 --fs lca --sp str > /scratch/ajallawa/MemStream/code/outputs/lca-cover-str.txt\n",
      "python3 memstream-ml3-v2.py --dataset cover --beta 0.0001 --memlen 2048 --fs chi --sp str > /scratch/ajallawa/MemStream/code/outputs/chi-cover-str.txt\n",
      "python3 memstream-ml3-v2.py --dataset cover --beta 0.0001 --memlen 2048 --fs mi --sp str > /scratch/ajallawa/MemStream/code/outputs/mi-cover-str.txt\n",
      "python3 memstream-ml3-v2.py --dataset cover --beta 0.0001 --memlen 2048 --fs rfe --sp str > /scratch/ajallawa/MemStream/code/outputs/rfe-cover-str.txt\n",
      "\n",
      "python3 memstream-ml3-v2.py --dataset cover --beta 0.0001 --memlen 2048 --fs mi --sp ovr > /scratch/ajallawa/MemStream/code/outputs/mi-cover-ovr.txt\n",
      "python3 memstream-ml3-v2.py --dataset cover --beta 0.0001 --memlen 2048 --fs pca_sd --sp ovr > /scratch/ajallawa/MemStream/code/outputs/pca_sd-cover-ovr.txt\n",
      "python3 memstream-ml3-v2.py --dataset cover --beta 0.0001 --memlen 2048 --fs pca --sp ovr > /scratch/ajallawa/MemStream/code/outputs/pca-cover-ovr.txt\n",
      "python3 memstream-ml3-v2.py --dataset cover --beta 0.0001 --memlen 2048 --fs ica_sd --sp ovr > /scratch/ajallawa/MemStream/code/outputs/ica_sd-cover-ovr.txt\n",
      "python3 memstream-ml3-v2.py --dataset cover --beta 0.0001 --memlen 2048 --fs ica --sp ovr > /scratch/ajallawa/MemStream/code/outputs/ica-cover-ovr.txt\n",
      "python3 memstream-ml3-v2.py --dataset cover --beta 0.0001 --memlen 2048 --fs lca_sd --sp ovr > /scratch/ajallawa/MemStream/code/outputs/lca_sd-cover-ovr.txt\n",
      "python3 memstream-ml3-v2.py --dataset cover --beta 0.0001 --memlen 2048 --fs lca --sp ovr > /scratch/ajallawa/MemStream/code/outputs/lca-cover-ovr.txt\n",
      "python3 memstream-ml3-v2.py --dataset cover --beta 0.0001 --memlen 2048 --fs chi --sp ovr > /scratch/ajallawa/MemStream/code/outputs/chi-cover-ovr.txt\n",
      "python3 memstream-ml3-v2.py --dataset cover --beta 0.0001 --memlen 2048 --fs mi --sp ovr > /scratch/ajallawa/MemStream/code/outputs/mi-cover-ovr.txt\n",
      "python3 memstream-ml3-v2.py --dataset cover --beta 0.0001 --memlen 2048 --fs rfe --sp ovr > /scratch/ajallawa/MemStream/code/outputs/rfe-cover-ovr.txt\n",
      "\n",
      "python3 memstream-ml3-v2.py --dataset cover --beta 0.0001 --memlen 2048 --fs mi --sp sm > /scratch/ajallawa/MemStream/code/outputs/mi-cover-sm.txt\n",
      "python3 memstream-ml3-v2.py --dataset cover --beta 0.0001 --memlen 2048 --fs pca_sd --sp sm > /scratch/ajallawa/MemStream/code/outputs/pca_sd-cover-sm.txt\n",
      "python3 memstream-ml3-v2.py --dataset cover --beta 0.0001 --memlen 2048 --fs pca --sp sm > /scratch/ajallawa/MemStream/code/outputs/pca-cover-sm.txt\n",
      "python3 memstream-ml3-v2.py --dataset cover --beta 0.0001 --memlen 2048 --fs ica_sd --sp sm > /scratch/ajallawa/MemStream/code/outputs/ica_sd-cover-sm.txt\n",
      "python3 memstream-ml3-v2.py --dataset cover --beta 0.0001 --memlen 2048 --fs ica --sp sm > /scratch/ajallawa/MemStream/code/outputs/ica-cover-sm.txt\n",
      "python3 memstream-ml3-v2.py --dataset cover --beta 0.0001 --memlen 2048 --fs lca_sd --sp sm > /scratch/ajallawa/MemStream/code/outputs/lca_sd-cover-sm.txt\n",
      "python3 memstream-ml3-v2.py --dataset cover --beta 0.0001 --memlen 2048 --fs lca --sp sm > /scratch/ajallawa/MemStream/code/outputs/lca-cover-sm.txt\n",
      "python3 memstream-ml3-v2.py --dataset cover --beta 0.0001 --memlen 2048 --fs chi --sp sm > /scratch/ajallawa/MemStream/code/outputs/chi-cover-sm.txt\n",
      "python3 memstream-ml3-v2.py --dataset cover --beta 0.0001 --memlen 2048 --fs mi --sp sm > /scratch/ajallawa/MemStream/code/outputs/mi-cover-sm.txt\n",
      "python3 memstream-ml3-v2.py --dataset cover --beta 0.0001 --memlen 2048 --fs rfe --sp sm > /scratch/ajallawa/MemStream/code/outputs/rfe-cover-sm.txt\n"
     ]
    }
   ],
   "source": [
    "print(modified_shell_script)"
   ]
  },
  {
   "cell_type": "code",
   "execution_count": 66,
   "id": "3f63045f-b8b6-4ee8-9149-10404cbf26c5",
   "metadata": {},
   "outputs": [],
   "source": [
    "with open('cover-batch-ml3-pre.sh', 'w') as file:\n",
    "    file.write(modified_shell_script)"
   ]
  },
  {
   "cell_type": "code",
   "execution_count": null,
   "id": "04f57f11-33fd-47b3-b67d-253bb6e6eaed",
   "metadata": {},
   "outputs": [],
   "source": []
  }
 ],
 "metadata": {
  "kernelspec": {
   "display_name": "Python 3 (ipykernel)",
   "language": "python",
   "name": "python3"
  },
  "language_info": {
   "codemirror_mode": {
    "name": "ipython",
    "version": 3
   },
   "file_extension": ".py",
   "mimetype": "text/x-python",
   "name": "python",
   "nbconvert_exporter": "python",
   "pygments_lexer": "ipython3",
   "version": "3.9.9"
  }
 },
 "nbformat": 4,
 "nbformat_minor": 5
}
