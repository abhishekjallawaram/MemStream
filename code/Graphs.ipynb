{
 "cells": [
  {
   "cell_type": "code",
   "execution_count": 1,
   "id": "3c9b6dd3-030d-4048-a2af-b5cedf0e1f42",
   "metadata": {},
   "outputs": [
    {
     "name": "stdout",
     "output_type": "stream",
     "text": [
      "Defaulting to user installation because normal site-packages is not writeable\n",
      "Requirement already satisfied: streamlit in /home/ajallawa/.local/lib/python3.9/site-packages (1.22.0)\n",
      "Requirement already satisfied: pandas in /opt/sw/spack/apps/linux-rhel8-x86_64_v2/gcc-10.3.0/python-3.9.9-jh/lib/python3.9/site-packages (1.3.5)\n",
      "Requirement already satisfied: watchdog in /home/ajallawa/.local/lib/python3.9/site-packages (from streamlit) (3.0.0)\n",
      "Requirement already satisfied: pydeck>=0.1.dev5 in /home/ajallawa/.local/lib/python3.9/site-packages (from streamlit) (0.8.1b0)\n",
      "Requirement already satisfied: altair<5,>=3.2.0 in /home/ajallawa/.local/lib/python3.9/site-packages (from streamlit) (4.2.2)\n",
      "Requirement already satisfied: tenacity<9,>=8.0.0 in /home/ajallawa/.local/lib/python3.9/site-packages (from streamlit) (8.2.2)\n",
      "Requirement already satisfied: numpy in /opt/sw/spack/apps/linux-rhel8-x86_64_v2/gcc-10.3.0/python-3.9.9-jh/lib/python3.9/site-packages (from streamlit) (1.22.3)\n",
      "Requirement already satisfied: click>=7.0 in /home/ajallawa/.local/lib/python3.9/site-packages (from streamlit) (8.1.3)\n",
      "Requirement already satisfied: pyarrow>=4.0 in /home/ajallawa/.local/lib/python3.9/site-packages (from streamlit) (11.0.0)\n",
      "Requirement already satisfied: importlib-metadata>=1.4 in /opt/sw/spack/apps/linux-rhel8-x86_64_v2/gcc-10.3.0/python-3.9.9-jh/lib/python3.9/site-packages (from streamlit) (4.11.3)\n",
      "Requirement already satisfied: rich>=10.11.0 in /home/ajallawa/.local/lib/python3.9/site-packages (from streamlit) (12.6.0)\n",
      "Requirement already satisfied: packaging>=14.1 in /opt/sw/spack/apps/linux-rhel8-x86_64_v2/gcc-10.3.0/python-3.9.9-jh/lib/python3.9/site-packages (from streamlit) (21.3)\n",
      "Requirement already satisfied: pillow>=6.2.0 in /opt/sw/spack/apps/linux-rhel8-x86_64_v2/gcc-10.3.0/python-3.9.9-jh/lib/python3.9/site-packages (from streamlit) (9.0.0)\n",
      "Requirement already satisfied: gitpython!=3.1.19 in /home/ajallawa/.local/lib/python3.9/site-packages (from streamlit) (3.1.31)\n",
      "Requirement already satisfied: typing-extensions>=3.10.0.0 in /home/ajallawa/.local/lib/python3.9/site-packages (from streamlit) (3.10.0.2)\n",
      "Requirement already satisfied: blinker>=1.0.0 in /home/ajallawa/.local/lib/python3.9/site-packages (from streamlit) (1.6.2)\n",
      "Requirement already satisfied: cachetools>=4.0 in /opt/sw/spack/apps/linux-rhel8-x86_64_v2/gcc-10.3.0/python-3.9.9-jh/lib/python3.9/site-packages (from streamlit) (4.2.4)\n",
      "Requirement already satisfied: protobuf<4,>=3.12 in /home/ajallawa/.local/lib/python3.9/site-packages (from streamlit) (3.20.3)\n",
      "Requirement already satisfied: validators>=0.2 in /home/ajallawa/.local/lib/python3.9/site-packages (from streamlit) (0.20.0)\n",
      "Requirement already satisfied: toml in /home/ajallawa/.local/lib/python3.9/site-packages (from streamlit) (0.10.2)\n",
      "Requirement already satisfied: tzlocal>=1.1 in /home/ajallawa/.local/lib/python3.9/site-packages (from streamlit) (4.3)\n",
      "Requirement already satisfied: tornado>=6.0.3 in /opt/sw/spack/apps/linux-rhel8-x86_64_v2/gcc-10.3.0/python-3.9.9-jh/lib/python3.9/site-packages (from streamlit) (6.1)\n",
      "Requirement already satisfied: pympler>=0.9 in /home/ajallawa/.local/lib/python3.9/site-packages (from streamlit) (1.0.1)\n",
      "Requirement already satisfied: requests>=2.4 in /opt/sw/spack/apps/linux-rhel8-x86_64_v2/gcc-10.3.0/python-3.9.9-jh/lib/python3.9/site-packages (from streamlit) (2.27.1)\n",
      "Requirement already satisfied: python-dateutil in /opt/sw/spack/apps/linux-rhel8-x86_64_v2/gcc-10.3.0/python-3.9.9-jh/lib/python3.9/site-packages (from streamlit) (2.8.1)\n",
      "Requirement already satisfied: pytz>=2017.3 in /opt/sw/spack/apps/linux-rhel8-x86_64_v2/gcc-10.3.0/python-3.9.9-jh/lib/python3.9/site-packages (from pandas) (2019.3)\n",
      "Requirement already satisfied: jinja2 in /opt/sw/spack/apps/linux-rhel8-x86_64_v2/gcc-10.3.0/python-3.9.9-jh/lib/python3.9/site-packages (from altair<5,>=3.2.0->streamlit) (3.1.0)\n",
      "Requirement already satisfied: toolz in /home/ajallawa/.local/lib/python3.9/site-packages (from altair<5,>=3.2.0->streamlit) (0.12.0)\n",
      "Requirement already satisfied: jsonschema>=3.0 in /opt/sw/spack/apps/linux-rhel8-x86_64_v2/gcc-10.3.0/python-3.9.9-jh/lib/python3.9/site-packages (from altair<5,>=3.2.0->streamlit) (3.2.0)\n",
      "Requirement already satisfied: entrypoints in /opt/sw/spack/apps/linux-rhel8-x86_64_v2/gcc-10.3.0/python-3.9.9-jh/lib/python3.9/site-packages (from altair<5,>=3.2.0->streamlit) (0.4)\n",
      "Requirement already satisfied: gitdb<5,>=4.0.1 in /home/ajallawa/.local/lib/python3.9/site-packages (from gitpython!=3.1.19->streamlit) (4.0.10)\n",
      "Requirement already satisfied: zipp>=0.5 in /opt/sw/spack/apps/linux-rhel8-x86_64_v2/gcc-10.3.0/python-3.9.9-jh/lib/python3.9/site-packages (from importlib-metadata>=1.4->streamlit) (3.7.0)\n",
      "Requirement already satisfied: pyparsing!=3.0.5,>=2.0.2 in /opt/sw/spack/apps/linux-rhel8-x86_64_v2/gcc-10.3.0/python-3.9.9-jh/lib/python3.9/site-packages (from packaging>=14.1->streamlit) (3.0.7)\n",
      "Requirement already satisfied: six>=1.5 in /opt/sw/spack/apps/linux-rhel8-x86_64_v2/gcc-10.3.0/python-3.9.9-jh/lib/python3.9/site-packages (from python-dateutil->streamlit) (1.16.0)\n",
      "Requirement already satisfied: certifi>=2017.4.17 in /opt/sw/spack/apps/linux-rhel8-x86_64_v2/gcc-10.3.0/python-3.9.9-jh/lib/python3.9/site-packages (from requests>=2.4->streamlit) (2021.10.8)\n",
      "Requirement already satisfied: urllib3<1.27,>=1.21.1 in /opt/sw/spack/apps/linux-rhel8-x86_64_v2/gcc-10.3.0/python-3.9.9-jh/lib/python3.9/site-packages (from requests>=2.4->streamlit) (1.26.9)\n",
      "Requirement already satisfied: idna<4,>=2.5 in /home/ajallawa/.local/lib/python3.9/site-packages (from requests>=2.4->streamlit) (2.10)\n",
      "Requirement already satisfied: charset-normalizer~=2.0.0 in /opt/sw/spack/apps/linux-rhel8-x86_64_v2/gcc-10.3.0/python-3.9.9-jh/lib/python3.9/site-packages (from requests>=2.4->streamlit) (2.0.12)\n",
      "Requirement already satisfied: commonmark<0.10.0,>=0.9.0 in /home/ajallawa/.local/lib/python3.9/site-packages (from rich>=10.11.0->streamlit) (0.9.1)\n",
      "Requirement already satisfied: pygments<3.0.0,>=2.6.0 in /home/ajallawa/.local/lib/python3.9/site-packages (from rich>=10.11.0->streamlit) (2.14.0)\n",
      "Requirement already satisfied: pytz-deprecation-shim in /home/ajallawa/.local/lib/python3.9/site-packages (from tzlocal>=1.1->streamlit) (0.1.0.post0)\n",
      "Requirement already satisfied: decorator>=3.4.0 in /opt/sw/spack/apps/linux-rhel8-x86_64_v2/gcc-10.3.0/python-3.9.9-jh/lib/python3.9/site-packages (from validators>=0.2->streamlit) (5.1.1)\n",
      "Requirement already satisfied: smmap<6,>=3.0.1 in /home/ajallawa/.local/lib/python3.9/site-packages (from gitdb<5,>=4.0.1->gitpython!=3.1.19->streamlit) (5.0.0)\n",
      "Requirement already satisfied: MarkupSafe>=2.0 in /opt/sw/spack/apps/linux-rhel8-x86_64_v2/gcc-10.3.0/python-3.9.9-jh/lib/python3.9/site-packages (from jinja2->altair<5,>=3.2.0->streamlit) (2.1.1)\n",
      "Requirement already satisfied: pyrsistent>=0.14.0 in /opt/sw/spack/apps/linux-rhel8-x86_64_v2/gcc-10.3.0/python-3.9.9-jh/lib/python3.9/site-packages (from jsonschema>=3.0->altair<5,>=3.2.0->streamlit) (0.18.1)\n",
      "Requirement already satisfied: setuptools in /opt/sw/spack/apps/linux-rhel8-x86_64_v2/gcc-10.3.0/python-3.9.9-jh/lib/python3.9/site-packages (from jsonschema>=3.0->altair<5,>=3.2.0->streamlit) (61.0.0)\n",
      "Requirement already satisfied: attrs>=17.4.0 in /opt/sw/spack/apps/linux-rhel8-x86_64_v2/gcc-10.3.0/python-3.9.9-jh/lib/python3.9/site-packages (from jsonschema>=3.0->altair<5,>=3.2.0->streamlit) (21.4.0)\n",
      "Requirement already satisfied: tzdata in /home/ajallawa/.local/lib/python3.9/site-packages (from pytz-deprecation-shim->tzlocal>=1.1->streamlit) (2023.3)\n",
      "\n",
      "\u001b[1m[\u001b[0m\u001b[34;49mnotice\u001b[0m\u001b[1;39;49m]\u001b[0m\u001b[39;49m A new release of pip is available: \u001b[0m\u001b[31;49m23.0.1\u001b[0m\u001b[39;49m -> \u001b[0m\u001b[32;49m23.1.2\u001b[0m\n",
      "\u001b[1m[\u001b[0m\u001b[34;49mnotice\u001b[0m\u001b[1;39;49m]\u001b[0m\u001b[39;49m To update, run: \u001b[0m\u001b[32;49mpip install --upgrade pip\u001b[0m\n",
      "Note: you may need to restart the kernel to use updated packages.\n"
     ]
    }
   ],
   "source": [
    "pip install streamlit pandas"
   ]
  },
  {
   "cell_type": "code",
   "execution_count": 2,
   "id": "1a8b7285-d90d-46c0-9a56-dfa810a676de",
   "metadata": {},
   "outputs": [],
   "source": [
    "import streamlit as st\n",
    "import pandas as pd\n",
    "\n",
    "data = {'Method': ['PCA', 'PCA+Sc', 'FastICA', 'FastICA+Sc', 'LDA', 'LDA+Sc', 'Chi2', 'MI', 'RFE'],\n",
    "        'Random Sampling': [0.104644872, 0.988277245, 0.984321238, 0.984262302, 0.978304947, 0.978304947, 0.839524973, 0.978304947, 0.983606268],\n",
    "        'Stratified Sampling': [0.099560532, 0.989425408, 0.983456234, 0.982117087, 0.968949707, 0.968949707, 0.859038462, 0.968949707, 0.976288351],\n",
    "        'Random Oversampling': [0.097062918, 0.982158772, 0.982230018, 0.983828316, 0.976868768, 0.976868768, 0.838996559, 0.976864848, 0.981054397],\n",
    "        'SMOTE': [0.118527371, 0.871165095, 0.984827737, 0.983733281, 0.976864848, 0.976864848, 0.83907696, 0.976868768, 0.980318761]}\n",
    "\n",
    "df = pd.DataFrame(data)\n",
    "df = df.set_index('Method')\n"
   ]
  },
  {
   "cell_type": "code",
   "execution_count": 3,
   "id": "06e16db0-3fec-45df-9d7d-f6bf02bcfa0a",
   "metadata": {},
   "outputs": [],
   "source": [
    "import matplotlib.pyplot as plt\n",
    "\n",
    "def plot_bar(method):\n",
    "    fig, ax = plt.subplots(figsize=(10, 6))\n",
    "    ax.bar(df.columns, df.loc[method], color=['#0059b3','#47c1bf','#a3f7bf','#f2efef'])\n",
    "    ax.set_title(method)\n",
    "    ax.set_ylabel('AUROC')\n",
    "    plt.ylim(0.0, 1.0)\n",
    "    st.pyplot(fig)\n"
   ]
  },
  {
   "cell_type": "code",
   "execution_count": 4,
   "id": "993e3edc-298b-4ca7-a382-8a9ed11d1b5a",
   "metadata": {},
   "outputs": [
    {
     "name": "stderr",
     "output_type": "stream",
     "text": [
      "2023-05-12 07:42:34.218 \n",
      "  \u001b[33m\u001b[1mWarning:\u001b[0m to view this Streamlit app on a browser, run it with the following\n",
      "  command:\n",
      "\n",
      "    streamlit run /opt/sw/spack/apps/linux-rhel8-x86_64_v2/gcc-10.3.0/python-3.9.9-jh/lib/python3.9/site-packages/ipykernel_launcher.py [ARGUMENTS]\n"
     ]
    },
    {
     "data": {
      "image/png": "[encoded data removed]",
      "text/plain": [
       "<Figure size 720x432 with 1 Axes>"
      ]
     },
     "metadata": {
      "needs_background": "light"
     },
     "output_type": "display_data"
    }
   ],
   "source": [
    "def app():\n",
    "    st.title('KDD Sample Data')\n",
    "    st.write('Data for different methods')\n",
    "    \n",
    "    # Create a dropdown to select the method\n",
    "    method = st.selectbox('Select Method', df.index)\n",
    "    \n",
    "    # Plot the bar plot for the selected method\n",
    "    plot_bar(method)\n",
    "\n",
    "if __name__ == '__main__':\n",
    "    app()\n"
   ]
  },
  {
   "cell_type": "code",
   "execution_count": 6,
   "id": "dbe08f55-0c60-42fa-b809-54f3f92d26f0",
   "metadata": {},
   "outputs": [
    {
     "name": "stdout",
     "output_type": "stream",
     "text": [
      "/bin/bash: streamlit: command not found\n"
     ]
    }
   ],
   "source": [
    "!streamlit run streamlit run /opt/sw/spack/apps/linux-rhel8-x86_64_v2/gcc-10.3.0/python-3.9.9-jh/lib/python3.9/site-packages/ipykernel_launcher.py"
   ]
  },
  {
   "cell_type": "code",
   "execution_count": null,
   "id": "8931ed87-e3a6-45be-8ce7-0b978cc9db49",
   "metadata": {},
   "outputs": [],
   "source": []
  }
 ],
 "metadata": {
  "kernelspec": {
   "display_name": "Python 3 (ipykernel)",
   "language": "python",
   "name": "python3"
  },
  "language_info": {
   "codemirror_mode": {
    "name": "ipython",
    "version": 3
   },
   "file_extension": ".py",
   "mimetype": "text/x-python",
   "name": "python",
   "nbconvert_exporter": "python",
   "pygments_lexer": "ipython3",
   "version": "3.9.9"
  }
 },
 "nbformat": 4,
 "nbformat_minor": 5
}
