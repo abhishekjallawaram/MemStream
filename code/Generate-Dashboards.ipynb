{
 "cells": [
  {
   "cell_type": "code",
   "execution_count": 1,
   "id": "8c9e6c0f-d020-44d2-b4c5-16b272a2cb42",
   "metadata": {},
   "outputs": [],
   "source": [
    "import pandas as pd\n",
    "import matplotlib.pyplot as plt\n",
    "from ipywidgets import interact, Dropdown"
   ]
  },
  {
   "cell_type": "code",
   "execution_count": 2,
   "id": "659d9b4f-2c9f-47ef-b2a9-225ffc8342d3",
   "metadata": {},
   "outputs": [],
   "source": [
    "data = {'Method': ['PCA', 'PCA+Sc', 'FastICA', 'FastICA+Sc', 'LDA', 'LDA+Sc', 'Chi2', 'MI', 'RFE'],\n",
    "        'Random Sampling': [0.104644872, 0.988277245, 0.984321238, 0.984262302, 0.978304947, 0.978304947, 0.839524973, 0.978304947, 0.983606268],\n",
    "        'Stratified Sampling': [0.099560532, 0.989425408, 0.983456234, 0.982117087, 0.968949707, 0.968949707, 0.859038462, 0.968949707, 0.976288351],\n",
    "        'Random Oversampling': [0.097062918, 0.982158772, 0.982230018, 0.983828316, 0.976868768, 0.976868768, 0.838996559, 0.976864848, 0.981054397],\n",
    "        'SMOTE': [0.118527371, 0.871165095, 0.984827737, 0.983733281, 0.976864848, 0.976864848, 0.83907696, 0.976868768, 0.980318761]}\n",
    "\n",
    "df = pd.DataFrame(data)\n",
    "df = df.set_index('Method')"
   ]
  },
  {
   "cell_type": "code",
   "execution_count": 8,
   "id": "b7d7f5e9-617e-4a43-8ce6-c1fb236ea09e",
   "metadata": {},
   "outputs": [],
   "source": [
    "# def plot_bar(method):\n",
    "#     fig, ax = plt.subplots(figsize=(10, 6))\n",
    "#     ax.bar(df.columns, df.loc[method], color=['#0059b3','#47c1bf','#a3f7bf','#f2efef'])\n",
    "#     ax.set_title(method)\n",
    "#     ax.set_ylabel('AUROC')\n",
    "#     plt.ylim(0.0, 1.0)\n",
    "#     plt.show()\n",
    "\n",
    "def plot_bar(method):\n",
    "    fig, ax = plt.subplots(figsize=(10, 6))\n",
    "    colors = ['#0059b3', '#47c1bf', '#a3f7bf', '#f2efef']\n",
    "    values = df.loc[method]\n",
    "    ax.barh(df.columns, values, color=colors)\n",
    "    ax.set_title(method)\n",
    "    ax.set_xlabel('AUROC')\n",
    "    plt.xlim(0.0, 1.0)\n",
    "    for i, v in enumerate(values):\n",
    "        ax.text(v + 0.01, i, f'{v:.2f}', color='black', fontweight='bold')\n",
    "    plt.show()\n",
    "\n"
   ]
  },
  {
   "cell_type": "code",
   "execution_count": 9,
   "id": "9d5b5f82-17e1-47b3-9a4f-5db32d4cc466",
   "metadata": {},
   "outputs": [
    {
     "data": {
      "application/vnd.jupyter.widget-view+json": {
       "model_id": "dc6a5e06aedc4680bc401a60ab18f611",
       "version_major": 2,
       "version_minor": 0
      },
      "text/plain": [
       "interactive(children=(Dropdown(description='Select Method', options=('PCA', 'PCA+Sc', 'FastICA', 'FastICA+Sc',…"
      ]
     },
     "metadata": {},
     "output_type": "display_data"
    },
    {
     "data": {
      "application/vnd.jupyter.widget-view+json": {
       "model_id": "3020161498dd4dca831f457929c15aeb",
       "version_major": 2,
       "version_minor": 0
      },
      "text/plain": [
       "Dropdown(description='Select Method', options=('PCA', 'PCA+Sc', 'FastICA', 'FastICA+Sc', 'LDA', 'LDA+Sc', 'Chi…"
      ]
     },
     "metadata": {},
     "output_type": "display_data"
    }
   ],
   "source": [
    "def app():\n",
    "    methods = df.index.tolist()\n",
    "    method_dropdown = Dropdown(options=methods, description='Select Method')\n",
    "    \n",
    "    @interact(method=method_dropdown)\n",
    "    def plot(method):\n",
    "        plot_bar(method)\n",
    "\n",
    "    display(method_dropdown)\n",
    "\n",
    "if __name__ == '__main__':\n",
    "    app()"
   ]
  },
  {
   "cell_type": "code",
   "execution_count": null,
   "id": "02905cf1-c75e-4b97-82aa-00a44d715a2d",
   "metadata": {},
   "outputs": [],
   "source": []
  }
 ],
 "metadata": {
  "kernelspec": {
   "display_name": "Python 3 (ipykernel)",
   "language": "python",
   "name": "python3"
  },
  "language_info": {
   "codemirror_mode": {
    "name": "ipython",
    "version": 3
   },
   "file_extension": ".py",
   "mimetype": "text/x-python",
   "name": "python",
   "nbconvert_exporter": "python",
   "pygments_lexer": "ipython3",
   "version": "3.9.9"
  }
 },
 "nbformat": 4,
 "nbformat_minor": 5
}
