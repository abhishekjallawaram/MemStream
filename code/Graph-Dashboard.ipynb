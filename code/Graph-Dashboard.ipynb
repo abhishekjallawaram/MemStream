{
 "cells": [
  {
   "cell_type": "code",
   "execution_count": 31,
   "id": "d69ebfcb-b967-4f4a-bd4d-04ab1499016d",
   "metadata": {},
   "outputs": [
    {
     "data": {
      "application/vnd.jupyter.widget-view+json": {
       "model_id": "7812650eceb34b79aaa28a561548caba",
       "version_major": 2,
       "version_minor": 0
      },
      "text/plain": [
       "Dropdown(description='Dataset:', options=('KDD', 'NSL-KDD'), value='KDD')"
      ]
     },
     "metadata": {},
     "output_type": "display_data"
    },
    {
     "data": {
      "application/vnd.jupyter.widget-view+json": {
       "model_id": "2e5508695ea54b21817a59a556d5db48",
       "version_major": 2,
       "version_minor": 0
      },
      "text/plain": [
       "Output()"
      ]
     },
     "metadata": {},
     "output_type": "display_data"
    }
   ],
   "source": [
    "import ipywidgets as widgets\n",
    "from IPython.display import display\n",
    "import pandas as pd\n",
    "\n",
    "# Create the datasets\n",
    "kdd_data = [[0.104644872, 0.988277245, 0.984321238, 0.984262302, 0.978304947, 0.978304947, 0.839524973, 0.978304947, 0.983606268],\n",
    "            [0.099560532, 0.989425408, 0.983456234, 0.982117087, 0.968949707, 0.968949707, 0.859038462, 0.968949707, 0.976288351],\n",
    "            [0.097062918, 0.982158772, 0.982230018, 0.983828316, 0.976868768, 0.976868768, 0.838996559, 0.976864848, 0.981054397],\n",
    "            [0.118527371, 0.871165095, 0.984827737, 0.983733281, 0.976864848, 0.976864848, 0.83907696, 0.976868768, 0.980318761]]\n",
    "\n",
    "nsl_data = [[0.807762485, 0.970058219, 0.959078857, 0.537905833, 0.990242279, 0.990242279, 0.309458625, 0.990242279, 0.54279069],\n",
    "            [0.818460005, 0.956568421, 0.977702882, 0.516888134, 0.993982603, 0.993982603, 0.322158691, 0.993982603, 0.991374647],\n",
    "            [0.249733488, 0.870680296, 0.775089646, 0.213138298, 0.987272342, 0.987272342, 0.223181249, 0.987272342, 0.970593113],\n",
    "            [0.250819759, 0.871165095, 0.774913498, 0.199234755, 0.987473815, 0.987473815, 0.249341357, 0.987473815, 0.971538289]]\n",
    "\n",
    "index = ['Random Sampling', 'Stratified Sampling', 'Random Oversampling', 'SMOTE']\n",
    "columns = ['PCA', 'PCA+Sc', 'FastICA', 'FastICA+Sc', 'LDA', 'LDA+Sc', 'Chi2', 'MI', 'RFE']\n",
    "\n",
    "kdd_df = pd.DataFrame(kdd_data, index=index, columns=columns)\n",
    "nsl_df = pd.DataFrame(nsl_data, index=index, columns=columns)\n",
    "\n",
    "# Define the dropdown menus\n",
    "datasets_dropdown5 = widgets.Dropdown(options=['KDD', 'NSL-KDD'], value='KDD', description='Dataset:')\n",
    "\n",
    "# Define the output area where the table will be displayed\n",
    "output_area5 = widgets.Output()\n",
    "\n",
    "# Define the function to update the output area based on the dropdown selection\n",
    "def on_dropdown_change5(change):\n",
    "    with output_area5:\n",
    "        output_area5.clear_output()\n",
    "        if change.new == 'KDD':\n",
    "            display(kdd_df)\n",
    "        else:\n",
    "            display(nsl_df)\n",
    "\n",
    "# Connect the dropdown to the\n",
    "datasets_dropdown5.observe(on_dropdown_change5, names='value')\n",
    "\n",
    "display(datasets_dropdown5)\n",
    "display(output_area5)"
   ]
  },
  {
   "cell_type": "code",
   "execution_count": 36,
   "id": "28a4fb59-552a-4d34-b2bd-1cf3ec100516",
   "metadata": {},
   "outputs": [
    {
     "data": {
      "application/vnd.jupyter.widget-view+json": {
       "model_id": "1a4df35c036f412199b571393bbf319d",
       "version_major": 2,
       "version_minor": 0
      },
      "text/plain": [
       "HBox(children=(Dropdown(description='Dataset:', options=('KDD', 'NSL-KDD'), value='KDD'), Dropdown(description…"
      ]
     },
     "metadata": {},
     "output_type": "display_data"
    },
    {
     "data": {
      "application/vnd.jupyter.widget-view+json": {
       "model_id": "a3aefdd4a3fe4f9a82bf5ecec54988ed",
       "version_major": 2,
       "version_minor": 0
      },
      "text/plain": [
       "Output()"
      ]
     },
     "metadata": {},
     "output_type": "display_data"
    }
   ],
   "source": [
    "import matplotlib.pyplot as plt\n",
    "\n",
    "def draw_bar_chart(df, index_val, title):\n",
    "    fig, ax = plt.subplots(figsize=(10,6))\n",
    "    ax.bar(df.columns, df.loc[index_val], capsize=5)\n",
    "    ax.set_ylabel('AUROC')\n",
    "    ax.set_title(title)\n",
    "    plt.show()\n",
    "\n",
    "def on_dataset_change(change):\n",
    "    with output_area:\n",
    "        output_area.clear_output()\n",
    "        if change.new == 'KDD':\n",
    "            index_dropdown.options = kdd_df.index\n",
    "        elif change.new == 'NSL-KDD':\n",
    "            index_dropdown.options = nsl_df.index\n",
    "\n",
    "def on_index_change(change):\n",
    "    with output_area:\n",
    "        output_area.clear_output()\n",
    "        if datasets_dropdown.value == 'KDD':\n",
    "            draw_bar_chart(kdd_df, change.new, 'KDD Dataset')\n",
    "        elif datasets_dropdown.value == 'NSL-KDD':\n",
    "            draw_bar_chart(nsl_df, change.new, 'NSL-KDD Dataset')\n",
    "\n",
    "kdd_df = pd.DataFrame(kdd_data, index=index, columns=columns)\n",
    "nsl_df = pd.DataFrame(nsl_data, index=index, columns=columns)\n",
    "\n",
    "datasets_dropdown = widgets.Dropdown(options=['KDD', 'NSL-KDD'], value='KDD', description='Dataset:')\n",
    "index_dropdown = widgets.Dropdown(options=kdd_df.index, value=kdd_df.index[0], description='Index:')\n",
    "output_area = widgets.Output()\n",
    "\n",
    "datasets_dropdown.observe(on_dataset_change, names='value')\n",
    "index_dropdown.observe(on_index_change, names='value')\n",
    "\n",
    "display(widgets.HBox([datasets_dropdown, index_dropdown]))\n",
    "display(output_area)\n",
    "\n"
   ]
  },
  {
   "cell_type": "code",
   "execution_count": null,
   "id": "4a9e41f3-2e08-4f7d-8396-4efc7c79cc80",
   "metadata": {},
   "outputs": [],
   "source": []
  }
 ],
 "metadata": {
  "kernelspec": {
   "display_name": "Python 3 (ipykernel)",
   "language": "python",
   "name": "python3"
  },
  "language_info": {
   "codemirror_mode": {
    "name": "ipython",
    "version": 3
   },
   "file_extension": ".py",
   "mimetype": "text/x-python",
   "name": "python",
   "nbconvert_exporter": "python",
   "pygments_lexer": "ipython3",
   "version": "3.9.9"
  }
 },
 "nbformat": 4,
 "nbformat_minor": 5
}
